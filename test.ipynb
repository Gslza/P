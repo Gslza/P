{
  "nbformat": 4,
  "nbformat_minor": 0,
  "metadata": {
    "colab": {
      "provenance": [],
      "toc_visible": true,
      "authorship_tag": "ABX9TyMh6XPagde2jJ74AA6sQo6w",
      "include_colab_link": true
    },
    "kernelspec": {
      "name": "python3",
      "display_name": "Python 3"
    },
    "language_info": {
      "name": "python"
    }
  },
  "cells": [
    {
      "cell_type": "markdown",
      "metadata": {
        "id": "view-in-github",
        "colab_type": "text"
      },
      "source": [
        "<a href=\"https://colab.research.google.com/github/Gslza/P/blob/main/test.ipynb\" target=\"_parent\"><img src=\"https://colab.research.google.com/assets/colab-badge.svg\" alt=\"Open In Colab\"/></a>"
      ]
    },
    {
      "cell_type": "code",
      "execution_count": 13,
      "metadata": {
        "colab": {
          "base_uri": "https://localhost:8080/",
          "height": 468
        },
        "id": "Fmsz-a9g3DkC",
        "outputId": "d971305d-5761-419a-80fe-522369165556"
      },
      "outputs": [
        {
          "output_type": "display_data",
          "data": {
            "text/plain": [
              "<Figure size 500x500 with 1 Axes>"
            ],
            "image/png": "[encoded data removed]"
          },
          "metadata": {}
        }
      ],
      "source": [
        "import matplotlib.pyplot as plt\n",
        "from matplotlib.patches import Polygon\n",
        "\n",
        "fig, ax = plt.subplots(figsize=(5, 5))\n",
        "\n",
        "# Koordinat bentuk \"F\" dan mirror \"F\" (Fendi logo)\n",
        "fendi = [\n",
        "    [0, 0], [0, 4], [2.3, 4], [2.3, 3.4],\n",
        "    [0.6, 3.4],[0.6, 2.6],[1.6, 2.6],[1.6, 2],\n",
        "    [0.6, 2],[0.6, 0]\n",
        "\n",
        "]\n",
        "\n",
        "logo = Polygon(fendi, closed=True, color='gray', alpha=0.7)\n",
        "ax.add_patch(logo)\n",
        "\n",
        "# Set grid, axis, dan tampilan\n",
        "plt.grid(True)\n",
        "plt.axis([0, 5, 0, 5])\n",
        "plt.gca().set_aspect('equal', adjustable='box')\n",
        "plt.title(\"GUSLI YANZA\")\n",
        "plt.show()"
      ]
    },
    {
      "cell_type": "code",
      "source": [
        "import matplotlib.pyplot as plt\n",
        "from matplotlib.patches import Polygon\n",
        "\n",
        "fig, ax = plt.subplots(figsize=(5, 6))\n",
        "ax.set_aspect('equal')\n",
        "ax.axis('off')\n",
        "\n",
        "# F normal (kiri)\n",
        "f_normal = Polygon([\n",
        "    [0.2, 0.2], [0.2, 5.8], [2.3, 5.8], [2.3, 4.8],\n",
        "    [1.2, 4.8], [1.2, 3.4], [2, 3.4], [2, 2.6],\n",
        "    [1.2, 2.6], [1.2, 1.2], [2.3, 1.2], [2.3, 0.2]\n",
        "], closed=True, color='black')\n",
        "\n",
        "# F mirror (kanan)\n",
        "f_mirror = Polygon([\n",
        "    [4.8, 0.2], [4.8, 5.8], [2.7, 5.8], [2.7, 4.8],\n",
        "    [3.8, 4.8], [3.8, 3.4], [3, 3.4], [3, 2.6],\n",
        "    [3.8, 2.6], [3.8, 1.2], [2.7, 1.2], [2.7, 0.2]\n",
        "], closed=True, color='black')\n",
        "\n",
        "ax.add_patch(f_normal)\n",
        "ax.add_patch(f_mirror)\n",
        "\n",
        "plt.xlim(0, 5)\n",
        "plt.ylim(0, 6)\n",
        "plt.tight_layout()\n",
        "plt.show()"
      ],
      "metadata": {
        "colab": {
          "base_uri": "https://localhost:8080/",
          "height": 601
        },
        "id": "xFEynCAF9tnA",
        "outputId": "1c340dcd-deb8-4bdb-9b78-055aacee6386"
      },
      "execution_count": 16,
      "outputs": [
        {
          "output_type": "display_data",
          "data": {
            "text/plain": [
              "<Figure size 500x600 with 1 Axes>"
            ],
            "image/png": "[encoded data removed]"
          },
          "metadata": {}
        }
      ]
    }
  ]
}